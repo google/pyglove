{
  "cells": [
    {
      "cell_type": "markdown",
      "metadata": {
        "id": "J7-MPGUYeW9l"
      },
      "source": [
        "# Evolving Functions with `pg.mutfun`\n",
        "\n",
        "PyGlove provides an extension library `pg.mutfun` for handling low-level mutable functions, which allows searching for an arbitrary function based on predefined instructions. This notebook illustrates how to evolve a function and do symbolic regression based on this extension library."
      ]
    },
    {
      "cell_type": "code",
      "execution_count": null,
      "metadata": {
        "id": "q2hVM-yZOOPe"
      },
      "outputs": [],
      "source": [
        "!pip install pyglove\n",
        "\n",
        "import pyglove as pg\n",
        "from pyglove.ext.mutfun import Instruction, Function, Assign, Var, BinaryOperator, Add, Substract, Multiply, Divide"
      ]
    },
    {
      "cell_type": "markdown",
      "metadata": {
        "id": "VaI7PsOwi65C"
      },
      "source": [
        "## Creating a mutable function and call it"
      ]
    },
    {
      "cell_type": "code",
      "execution_count": null,
      "metadata": {
        "executionInfo": {
          "elapsed": 2,
          "status": "ok",
          "timestamp": 1678487532791,
          "user": {
            "displayName": "",
            "userId": ""
          },
          "user_tz": 480
        },
        "id": "QknSXxxgeWbY",
        "outputId": "c56fe02b-3b74-4023-a0f4-f0a9596317c7"
      },
      "outputs": [
        {
          "name": "stdout",
          "output_type": "stream",
          "text": [
            "def f(x):\n",
            "  y = 2\n",
            "  return x + y\n",
            "f(1) = 3\n"
          ]
        }
      ],
      "source": [
        "f = Function(\n",
        "    'f',\n",
        "    [\n",
        "        Assign('y', 2),\n",
        "        Var('x') + Var('y')\n",
        "    ],\n",
        "    args=['x'])\n",
        "\n",
        "print(f)\n",
        "f.compile()\n",
        "print('f(1) =', f(1))"
      ]
    },
    {
      "cell_type": "code",
      "execution_count": null,
      "metadata": {
        "executionInfo": {
          "elapsed": 58,
          "status": "ok",
          "timestamp": 1678487533105,
          "user": {
            "displayName": "",
            "userId": ""
          },
          "user_tz": 480
        },
        "id": "yD1W4mzyUax8",
        "outputId": "d2bfa005-40c3-401a-c6d3-3bc34ef20f07"
      },
      "outputs": [
        {
          "name": "stdout",
          "output_type": "stream",
          "text": [
            "def g():\n",
            "  return x + y\n",
            "Compilation failed: Undefined variables {'x', 'y'} found at 'body[0]'.\n"
          ]
        }
      ],
      "source": [
        "# A bad function can be caught with `Function.compile`.\n",
        "g = Function(\n",
        "    'g', \n",
        "    [\n",
        "        Var('x') + Var('y')\n",
        "    ])\n",
        "print(g)\n",
        "try:\n",
        "  g.compile()\n",
        "except ValueError as e:\n",
        "  print('Compilation failed:', e)"
      ]
    },
    {
      "cell_type": "markdown",
      "metadata": {
        "id": "Bi3Yk09tSna5"
      },
      "source": [
        "## Evolving a mutable function"
      ]
    },
    {
      "cell_type": "code",
      "execution_count": null,
      "metadata": {
        "executionInfo": {
          "elapsed": 58,
          "status": "ok",
          "timestamp": 1678487533409,
          "user": {
            "displayName": "",
            "userId": ""
          },
          "user_tz": 480
        },
        "id": "hKHBECSsSi6U",
        "outputId": "7a332274-8aa0-4ab1-bee9-122168d871e9"
      },
      "outputs": [
        {
          "name": "stdout",
          "output_type": "stream",
          "text": [
            "def seed(x):\n",
            "  y = x * 2\n",
            "  z = 3 + x\n",
            "  return y + z\n",
            "seed(2) = 9\n"
          ]
        }
      ],
      "source": [
        "seed = Function('seed', [\n",
        "  Assign('y', Var('x') * 2),\n",
        "  Assign('z', 3 + Var('x')),\n",
        "  Var('y') + Var('z'),\n",
        "], args=['x'])\n",
        "\n",
        "print(seed)\n",
        "print('seed(2) =', seed(2))"
      ]
    },
    {
      "cell_type": "code",
      "execution_count": null,
      "metadata": {
        "executionInfo": {
          "elapsed": 95,
          "status": "ok",
          "timestamp": 1678487533758,
          "user": {
            "displayName": "",
            "userId": ""
          },
          "user_tz": 480
        },
        "id": "e8O_XPs0VsTH",
        "outputId": "1bc7d18a-06c9-4d97-8bac-519628223b81"
      },
      "outputs": [
        {
          "name": "stdout",
          "output_type": "stream",
          "text": [
            "def seed(x):\n",
            "  y = x * 2\n",
            "  z = 3 + x\n",
            "  return y + z\n",
            "9\n",
            "def seed(x):\n",
            "  y = x * 2\n",
            "  z = 3 + y\n",
            "  return y + z\n",
            "11\n",
            "def seed(x):\n",
            "  y = x * 2\n",
            "  z = 3 + y\n",
            "  return x + z\n",
            "9\n",
            "def seed(x):\n",
            "  y = x * 2\n",
            "  z = 3 / y\n",
            "  return y + z\n",
            "4.75\n",
            "def seed(x):\n",
            "  y = x * 2\n",
            "  z = 3 ** y\n",
            "  return y + z\n",
            "85\n"
          ]
        }
      ],
      "source": [
        "import random\n",
        "\n",
        "def evolve_fn(k, v, p):\n",
        "  if isinstance(v, BinaryOperator):\n",
        "    other_binary_ops = list(Instruction.select_types(\n",
        "        lambda cls: (issubclass(cls, BinaryOperator)\n",
        "                     and cls not in (BinaryOperator, v.__class__))))\n",
        "    another_op = random.choice(other_binary_ops)\n",
        "    return another_op(**v.sym_init_args)\n",
        "  elif isinstance(v, Var):\n",
        "    vars = v.seen_vars() - set([v.name, v.parent_func().name])\n",
        "    if vars:\n",
        "      return Var(random.choice(list(vars)))\n",
        "  return v\n",
        "    \n",
        "def evolve_weights(mt, k, v, p):\n",
        "  # Evolving only binary op and var.\n",
        "  if isinstance(v, (BinaryOperator, Var)):\n",
        "    return 1.0\n",
        "  return 0.0\n",
        "\n",
        "\n",
        "def search():\n",
        "  search_space = pg.evolve(seed, evolve_fn, weights=evolve_weights)\n",
        "  search_algo = pg.evolution.Evolution(\n",
        "      (pg.evolution.selectors.Random(10)\n",
        "      \u003e\u003e pg.evolution.selectors.Top(1)\n",
        "      \u003e\u003e pg.evolution.mutators.Uniform()),\n",
        "      population_init=(pg.geno.Random(), 1),\n",
        "      population_update=pg.evolution.selectors.Last(20))\n",
        "\n",
        "  for example, feedback in pg.sample(\n",
        "      search_space, search_algo, num_examples=5):\n",
        "    print(example)\n",
        "    reward = example(2)\n",
        "    feedback(reward)\n",
        "    print(reward)\n",
        "\n",
        "search()"
      ]
    },
    {
      "cell_type": "markdown",
      "metadata": {
        "id": "EEtSahfrc9TP"
      },
      "source": [
        "## Symbolic regression"
      ]
    },
    {
      "cell_type": "markdown",
      "metadata": {
        "id": "DnLkU0q-pO2B"
      },
      "source": [
        "Create a random program with random chosen `BinaryOperator`s."
      ]
    },
    {
      "cell_type": "code",
      "execution_count": null,
      "metadata": {
        "id": "fg5kMPc6W3ho"
      },
      "outputs": [],
      "source": [
        "def random_program(\n",
        "    max_lines: int = 5, min_lines: int = 1, use_constants=(1, 2)):\n",
        "  num_lines = random.randint(min_lines, max_lines)\n",
        "  instructions = []\n",
        "  binary_ops = list(Instruction.select_types(\n",
        "      lambda cls: issubclass(cls, BinaryOperator) and cls is not BinaryOperator))\n",
        "  def random_operand(max_var_index):\n",
        "    if random.choice([True, False]):\n",
        "      # Use variable.\n",
        "      var_index = random.randint(0, max_var_index)\n",
        "      return Var(f'v{max_var_index}')\n",
        "    else:\n",
        "      return random.choice(use_constants)\n",
        "\n",
        "  def random_op(max_var_index):\n",
        "    return random.choice(list(binary_ops))(\n",
        "        random_operand(max_var_index),\n",
        "        random_operand(max_var_index))\n",
        "\n",
        "  for i, _ in enumerate(range(num_lines)):\n",
        "    ins = Assign(f'v{i + 1}', random_op(i))\n",
        "    instructions.append(ins)\n",
        "  return Function('h', instructions, args=['v0'])\n"
      ]
    },
    {
      "cell_type": "markdown",
      "metadata": {
        "id": "d2UQ4lKkpXMJ"
      },
      "source": [
        "Coding symbolic regression:"
      ]
    },
    {
      "cell_type": "code",
      "execution_count": null,
      "metadata": {
        "executionInfo": {
          "elapsed": 6102,
          "status": "ok",
          "timestamp": 1678487690579,
          "user": {
            "displayName": "",
            "userId": ""
          },
          "user_tz": 480
        },
        "id": "P5Ce4_NxphGD",
        "outputId": "2a0cde62-ceb3-4477-bad0-e7fa1e8310c6"
      },
      "outputs": [
        {
          "name": "stdout",
          "output_type": "stream",
          "text": [
            "def h(v0):\n",
            "  v1 = v0 + 2\n",
            "  return v2 = 2 // v1\n",
            "def h(v0):\n",
            "  v1 = v0 ** 2\n",
            "  return v2 = 2 + v1 14.875\n"
          ]
        }
      ],
      "source": [
        "from typing import List, Tuple\n",
        "\n",
        "def symbolic_regress(seed, \n",
        "                     truth_fn, \n",
        "                     sample_points: List[Tuple[float]], \n",
        "                     num_iterations: int = 500):\n",
        "  labels = [truth_fn(*sample_point) for sample_point in sample_points]\n",
        "\n",
        "  search_space = pg.evolve(seed, evolve_fn, weights=evolve_weights)\n",
        "  search_algo = pg.evolution.Evolution(\n",
        "      (pg.evolution.selectors.Random(20)\n",
        "      \u003e\u003e pg.evolution.selectors.Top(1)\n",
        "      \u003e\u003e pg.evolution.mutators.Uniform()),\n",
        "      population_init=(pg.geno.Random(), 1),\n",
        "      population_update=pg.evolution.selectors.Last(100))\n",
        "\n",
        "  losses = []\n",
        "  min_loss, best_example = None, None\n",
        "  for example, feedback in pg.sample(\n",
        "      search_space, search_algo, num_examples=num_iterations):\n",
        "    example.prune()\n",
        "    try:\n",
        "      prediction = [example(*args) for args in sample_points]\n",
        "      loss = sum([(l - p) ** 2 for l, p in zip(labels, prediction)]) / len(labels)\n",
        "    except (ZeroDivisionError, OverflowError):\n",
        "      loss = 1e10\n",
        "    feedback(-loss)\n",
        "    if min_loss is None or min_loss \u003e loss:\n",
        "      min_loss, best_example = loss, example\n",
        "    losses.append(loss)\n",
        "  return (best_example, min_loss, losses)\n",
        "\n",
        "seed = random_program()\n",
        "print(seed)\n",
        "best_example, min_loss, losses = symbolic_regress(\n",
        "    seed,\n",
        "    lambda x: x ** 2 + x, \n",
        "    [(1,), (2,), (-1,), (3,), (5,), (7,), (-3,), (-5,)])\n",
        "\n",
        "print(best_example, min_loss)"
      ]
    },
    {
      "cell_type": "code",
      "execution_count": null,
      "metadata": {
        "colab": {
          "height": 269
        },
        "executionInfo": {
          "elapsed": 204,
          "status": "ok",
          "timestamp": 1678487186561,
          "user": {
            "displayName": "Daiyi Peng",
            "userId": "00212084952560362045"
          },
          "user_tz": 480
        },
        "id": "KL01soEHjb2W",
        "outputId": "d0c26fe5-cfeb-4684-e87c-393434dadd25"
      },
      "outputs": [
        {
          "data": {
            "image/png": "[encoded data removed]",
            "text/plain": [
              "\u003cFigure size 600x400 with 1 Axes\u003e"
            ]
          },
          "metadata": {},
          "output_type": "display_data"
        }
      ],
      "source": [
        "def plot(losses):\n",
        "  import matplotlib.pyplot as plt\n",
        "  plt.ylim(top=500)\n",
        "  plt.plot(range(len(losses)), losses)\n",
        "  \n",
        "plot(losses)"
      ]
    }
  ],
  "metadata": {
    "colab": {
      "provenance": [
        {
          "file_id": "1-zp3-EUhGzKBGP5Xidtb-nSZk1ECmgOS",
          "timestamp": 1678487298622
        },
        {
          "file_id": "1W2bDNBcm5PG7s9hR61DRk-1jCMl3-JAt",
          "timestamp": 1678299895631
        }
      ]
    },
    "kernelspec": {
      "display_name": "Python 3",
      "name": "python3"
    },
    "language_info": {
      "name": "python"
    }
  },
  "nbformat": 4,
  "nbformat_minor": 0
}
