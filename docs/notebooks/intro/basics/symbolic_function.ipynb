{
  "cells": [
    {
      "cell_type": "markdown",
      "metadata": {
        "id": "RsR5sJavgMJX"
      },
      "source": [
        "# Symboic Functions (Functors)\n",
        "\n",
        "[![Open in Colab](https://colab.research.google.com/assets/colab-badge.svg)](https://colab.research.google.com/github/google/pyglove/blob/main/docs/notebooks/intro/basics/symbolic_function.ipynb)\n",
        "\n",
        "PyGlove introduces the concept of symbolic functions (or functors). A symbolic function is the symbolic counterpart of Python functions. Implementation-wise, it is a symbolic class with a `__call__` method that invokes the function body. \n",
        "\n",
        "Symbolic function provides the following benefits:\n",
        "\n",
        "* It converts functions to classes, thus the use of functors can make a Python program more OO;\n",
        "* It adds advanced binding capabilities, from full binding, partial binding, incremental binding, mutable binding to binding cloning, binding serialization, and etc.\n",
        "* It can be symbolically programmed, supporting features such as deep manipulation, symbolic query, generation and optimization.\n",
        "\n",
        "**Table of Contents**\n",
        "\n",
        "* [Definition](#definition)\n",
        "* [Advanced Binding Capabilities](#binding-capabilities)\n",
        "* [Symbolic Programmability](#symbolic-programmability)\n",
        "* [Appendix: Various Binding Scenarios With `functools.partial`](#functools-partial)\n"
      ]
    },
    {
      "cell_type": "markdown",
      "metadata": {
        "id": "i_ilzBcTu1Zi"
      },
      "source": [
        "Before we get started, we install and import the pyglove library:"
      ]
    },
    {
      "cell_type": "code",
      "execution_count": null,
      "metadata": {
        "id": "dJ0VuWJG6SYG"
      },
      "outputs": [],
      "source": [
        "!pip install pyglove"
      ]
    },
    {
      "cell_type": "code",
      "execution_count": null,
      "metadata": {
        "id": "1pi3suFbgsUk"
      },
      "outputs": [],
      "source": [
        "import pyglove as pg"
      ]
    },
    {
      "cell_type": "markdown",
      "metadata": {
        "id": "giXx5wEa1QYt"
      },
      "source": [
        "\u003ca name='definition'\u003e\u003c/a\u003e\n",
        "## Definition\n",
        "\n",
        "A functor can be created by decorating a function definition with `pg.symbolize`, for example:"
      ]
    },
    {
      "cell_type": "code",
      "execution_count": null,
      "metadata": {
        "executionInfo": {
          "elapsed": 58,
          "status": "ok",
          "timestamp": 1657241038629,
          "user": {
            "displayName": "",
            "userId": ""
          },
          "user_tz": 420
        },
        "id": "8j8Htej24x56",
        "outputId": "746b928e-1733-450e-e52a-1b4ca1d3f6f2"
      },
      "outputs": [
        {
          "name": "stdout",
          "output_type": "stream",
          "text": [
            "\u003cclass '__main__.foo'\u003e\n",
            "\u003cclass '__main__.bar'\u003e\n"
          ]
        }
      ],
      "source": [
        "@pg.symbolize\n",
        "def foo(fn, v):\n",
        "  return v + fn(v)\n",
        "\n",
        "@pg.symbolize\n",
        "def bar(x, y):\n",
        "  return x + y\n",
        "\n",
        "print(foo)\n",
        "print(bar)"
      ]
    },
    {
      "cell_type": "markdown",
      "metadata": {
        "id": "PI9IuWGv46Hs"
      },
      "source": [
        "It can also be created by symbolize an existing function (without modifying it)."
      ]
    },
    {
      "cell_type": "code",
      "execution_count": null,
      "metadata": {
        "executionInfo": {
          "elapsed": 58,
          "status": "ok",
          "timestamp": 1657241038851,
          "user": {
            "displayName": "",
            "userId": ""
          },
          "user_tz": 420
        },
        "id": "DmlGpduXDxlu",
        "outputId": "488ab520-fb62-4ae2-9d4c-88d3146fa608"
      },
      "outputs": [
        {
          "name": "stdout",
          "output_type": "stream",
          "text": [
            "\u003cclass '__main__.baz'\u003e\n",
            "\u003cfunction baz at 0x7fecf4f4a0d0\u003e\n"
          ]
        }
      ],
      "source": [
        "def baz(x, y, z):\n",
        "  return x * y * z\n",
        "\n",
        "bax = pg.symbolize(baz)\n",
        "print(bax)\n",
        "print(baz)"
      ]
    },
    {
      "cell_type": "markdown",
      "metadata": {
        "id": "J8peXuwT1KdQ"
      },
      "source": [
        "To call a symbolic function, we need to create an instance first:"
      ]
    },
    {
      "cell_type": "code",
      "execution_count": null,
      "metadata": {
        "executionInfo": {
          "elapsed": 56,
          "status": "ok",
          "timestamp": 1657241039023,
          "user": {
            "displayName": "",
            "userId": ""
          },
          "user_tz": 420
        },
        "id": "WxpUGL-71fQZ",
        "outputId": "227f8ad1-31b5-48a8-d3b8-2a96d283542e"
      },
      "outputs": [
        {
          "name": "stdout",
          "output_type": "stream",
          "text": [
            "foo(\n",
            "  fn = bar(\n",
            "    x = MISSING_VALUE(Any()),\n",
            "    y = 1\n",
            "  ),\n",
            "  v = 2\n",
            ")\n"
          ]
        },
        {
          "data": {
            "text/plain": [
              "5"
            ]
          },
          "execution_count": 5,
          "metadata": {},
          "output_type": "execute_result"
        }
      ],
      "source": [
        "# `f` is an instance of `foo`,\n",
        "# whose `fn` argument is a partially bound `bar` object.\n",
        "f = foo(bar(y=1), 2)\n",
        "print(f)\n",
        "\n",
        "# Call the symbolic function.\n",
        "f()"
      ]
    },
    {
      "cell_type": "markdown",
      "metadata": {
        "id": "JqZs4zMHETJX"
      },
      "source": [
        "\u003ca name='binding-capabilities'\u003e\u003c/a\u003e\n",
        "## Advanced Binding Capabilities\n",
        "\n",
        "Functor supports various binding scenarios, from partial binding, incremental binding, to mutable binding, and etc."
      ]
    },
    {
      "cell_type": "markdown",
      "metadata": {
        "id": "LMXzJQBOwDN1"
      },
      "source": [
        "### Partial binding \n",
        "\n",
        "As we have seen above (`bar(y=1)`), a functor object can be created with arguments partially bound. The unbound arguments are marked as `pg.MISSING_VALUE`."
      ]
    },
    {
      "cell_type": "code",
      "execution_count": null,
      "metadata": {
        "executionInfo": {
          "elapsed": 2,
          "status": "ok",
          "timestamp": 1657241039151,
          "user": {
            "displayName": "",
            "userId": ""
          },
          "user_tz": 420
        },
        "id": "bdkbli3afHNv",
        "outputId": "be2543b9-5855-4ca3-e43f-877703b6f6dc"
      },
      "outputs": [
        {
          "name": "stdout",
          "output_type": "stream",
          "text": [
            "foo(\n",
            "  fn = MISSING_VALUE(Any()),\n",
            "  v = 1\n",
            ")\n",
            "False\n"
          ]
        }
      ],
      "source": [
        "# `f2` is a partially bound `foo` with `v`.\n",
        "f2 = foo(v=1)\n",
        "print(f2)\n",
        "\n",
        "# Tell whether a functor is fully bound or not.\n",
        "print(f2.is_fully_bound)"
      ]
    },
    {
      "cell_type": "markdown",
      "metadata": {
        "id": "0IK5W4v_T5KH"
      },
      "source": [
        "Bound arguments and unbound arguments can be accessed via the `bound_args` or `unbound_args` property."
      ]
    },
    {
      "cell_type": "code",
      "execution_count": null,
      "metadata": {
        "executionInfo": {
          "elapsed": 55,
          "status": "ok",
          "timestamp": 1657241039332,
          "user": {
            "displayName": "",
            "userId": ""
          },
          "user_tz": 420
        },
        "id": "uxvhl-ZFTzVW",
        "outputId": "d37f0697-41e1-4b64-bb6f-ee132ca12db7"
      },
      "outputs": [
        {
          "name": "stdout",
          "output_type": "stream",
          "text": [
            "bound args {'v'}\n",
            "unbound args {'fn'}\n"
          ]
        }
      ],
      "source": [
        "print('bound args', f2.bound_args)\n",
        "print('unbound args', f2.unbound_args)"
      ]
    },
    {
      "cell_type": "markdown",
      "metadata": {
        "id": "esZ42pCzwtBs"
      },
      "source": [
        "### Incremental binding\n",
        "\n",
        "Unbound arguments can be provided at call time. However, a call-time provided argument will not be considered as a bound argument. It's used for that particular invocation and not associated with the functor. For example:"
      ]
    },
    {
      "cell_type": "code",
      "execution_count": null,
      "metadata": {
        "executionInfo": {
          "elapsed": 3,
          "status": "ok",
          "timestamp": 1657241039498,
          "user": {
            "displayName": "",
            "userId": ""
          },
          "user_tz": 420
        },
        "id": "ygD5tDWTUmA-",
        "outputId": "3e432c9c-ee57-48fd-eee7-d94e128912fb"
      },
      "outputs": [
        {
          "name": "stdout",
          "output_type": "stream",
          "text": [
            "3\n",
            "foo(\n",
            "  fn = MISSING_VALUE(Any()),\n",
            "  v = 1\n",
            ")\n",
            "5\n"
          ]
        }
      ],
      "source": [
        "# Passing `y=2` at call time does not cause `y` to bind with the value.\n",
        "print(f2(fn=bar(y=1)))\n",
        "print(f2)\n",
        "print(f2(fn=bar(y=3)))"
      ]
    },
    {
      "cell_type": "markdown",
      "metadata": {
        "id": "MXwguQURUkvB"
      },
      "source": [
        "On the other hand, users can also incrementally bind arguments through attribute assignment, which will be treated as bound arguments:"
      ]
    },
    {
      "cell_type": "code",
      "execution_count": null,
      "metadata": {
        "executionInfo": {
          "elapsed": 57,
          "status": "ok",
          "timestamp": 1657241039737,
          "user": {
            "displayName": "",
            "userId": ""
          },
          "user_tz": 420
        },
        "id": "MCWiMz2Lwq_4",
        "outputId": "fd434d97-dc14-4885-a6c8-73f2d3eb2279"
      },
      "outputs": [
        {
          "name": "stdout",
          "output_type": "stream",
          "text": [
            "foo(\n",
            "  fn = bar(\n",
            "    x = MISSING_VALUE(Any()),\n",
            "    y = 1\n",
            "  ),\n",
            "  v = 1\n",
            ")\n",
            "3\n"
          ]
        }
      ],
      "source": [
        "f2.fn = bar(y=1)\n",
        "print(f2)\n",
        "print(f2())"
      ]
    },
    {
      "cell_type": "markdown",
      "metadata": {
        "id": "8-54hpUcxGoj"
      },
      "source": [
        "### Mutable binding\n",
        "\n",
        "If users want to modify a preexisting bound argument, attribute assignment can help:"
      ]
    },
    {
      "cell_type": "code",
      "execution_count": null,
      "metadata": {
        "executionInfo": {
          "elapsed": 58,
          "status": "ok",
          "timestamp": 1657241039918,
          "user": {
            "displayName": "",
            "userId": ""
          },
          "user_tz": 420
        },
        "id": "p59XavYxxRWE",
        "outputId": "1f343551-0ad2-4755-afe3-1f6bd9230c27"
      },
      "outputs": [
        {
          "name": "stdout",
          "output_type": "stream",
          "text": [
            "foo(\n",
            "  fn = bar(\n",
            "    x = MISSING_VALUE(Any()),\n",
            "    y = 1\n",
            "  ),\n",
            "  v = 2\n",
            ")\n"
          ]
        },
        {
          "data": {
            "text/plain": [
              "5"
            ]
          },
          "execution_count": 10,
          "metadata": {},
          "output_type": "execute_result"
        }
      ],
      "source": [
        "f2.v = 2\n",
        "print(f2)\n",
        "f2()"
      ]
    },
    {
      "cell_type": "markdown",
      "metadata": {
        "id": "lhkFhdu5xaNE"
      },
      "source": [
        "If users only want to override the argument at call time, but not modifying the bound argument, they can specify that argument with a new value during call, and set the `override_args` flag to `True`."
      ]
    },
    {
      "cell_type": "code",
      "execution_count": null,
      "metadata": {
        "executionInfo": {
          "elapsed": 56,
          "status": "ok",
          "timestamp": 1657241040097,
          "user": {
            "displayName": "",
            "userId": ""
          },
          "user_tz": 420
        },
        "id": "o9HxqgEUfZIX",
        "outputId": "a9ae08f0-369e-4fb6-fe76-be899a57bcc7"
      },
      "outputs": [
        {
          "name": "stdout",
          "output_type": "stream",
          "text": [
            "foo(\n",
            "  fn = bar(\n",
            "    x = MISSING_VALUE(Any()),\n",
            "    y = 1\n",
            "  ),\n",
            "  v = 2\n",
            ")\n"
          ]
        }
      ],
      "source": [
        "f2(v=3, override_args=True)\n",
        "\n",
        "# f2.v remains bound with value 2.\n",
        "print(f2)"
      ]
    },
    {
      "cell_type": "markdown",
      "metadata": {
        "id": "qzthGZehx6n6"
      },
      "source": [
        "### Sealed binding\n",
        "\n",
        "If users want to prevent the bound arguments from future modification, they can seal such functor. Further update on the functor will raise an error."
      ]
    },
    {
      "cell_type": "code",
      "execution_count": null,
      "metadata": {
        "executionInfo": {
          "elapsed": 57,
          "status": "ok",
          "timestamp": 1657241040268,
          "user": {
            "displayName": "",
            "userId": ""
          },
          "user_tz": 420
        },
        "id": "_SMzFlxxfqTK",
        "outputId": "d84df958-5ecc-41c0-8b2d-81c78f8b770e"
      },
      "outputs": [
        {
          "name": "stdout",
          "output_type": "stream",
          "text": [
            "Cannot set attribute 'v': object is sealed. (path=)\n"
          ]
        }
      ],
      "source": [
        "f2.seal()\n",
        "try:\n",
        "  f2.v = 3\n",
        "except pg.WritePermissionError as e:\n",
        "  print(e)"
      ]
    },
    {
      "cell_type": "markdown",
      "metadata": {
        "id": "HWBausH6yUmL"
      },
      "source": [
        "### Clone a binding\n",
        "\n",
        "A functor object can also be cloned:"
      ]
    },
    {
      "cell_type": "code",
      "execution_count": null,
      "metadata": {
        "executionInfo": {
          "elapsed": 55,
          "status": "ok",
          "timestamp": 1657241040449,
          "user": {
            "displayName": "",
            "userId": ""
          },
          "user_tz": 420
        },
        "id": "i6tMzsXlyeRl",
        "outputId": "03def4f1-acea-4e87-960a-cb35000ce510"
      },
      "outputs": [
        {
          "data": {
            "text/plain": [
              "foo(fn=bar(x=MISSING_VALUE, y=1), v=2)"
            ]
          },
          "execution_count": 13,
          "metadata": {},
          "output_type": "execute_result"
        }
      ],
      "source": [
        "f3 = f2.clone()\n",
        "f3"
      ]
    },
    {
      "cell_type": "markdown",
      "metadata": {
        "id": "TJ8XlUS4ykjW"
      },
      "source": [
        "### Serialize a binding\n",
        "\n",
        "A functor object can also be serialized for later use, or picked up by a different process (given the arguments are serializable by PyGlove)."
      ]
    },
    {
      "cell_type": "code",
      "execution_count": null,
      "metadata": {
        "colab": {
          "height": 36
        },
        "executionInfo": {
          "elapsed": 57,
          "status": "ok",
          "timestamp": 1657241040631,
          "user": {
            "displayName": "",
            "userId": ""
          },
          "user_tz": 420
        },
        "id": "tyL--gaMyjrH",
        "outputId": "c542e239-92c9-4f25-da45-063c5345afcc"
      },
      "outputs": [
        {
          "data": {
            "application/vnd.google.colaboratory.intrinsic+json": {
              "type": "string"
            },
            "text/plain": [
              "'{\"_type\": \"__main__.foo\", \"fn\": {\"_type\": \"__main__.bar\", \"y\": 1}, \"v\": 2}'"
            ]
          },
          "execution_count": 14,
          "metadata": {},
          "output_type": "execute_result"
        }
      ],
      "source": [
        "serialized_form = f2.to_json_str()\n",
        "serialized_form"
      ]
    },
    {
      "cell_type": "markdown",
      "metadata": {
        "id": "QwH9QglezBfC"
      },
      "source": [
        "Loading it is simple, just make sure the module that defines the functor class is pre-imported:"
      ]
    },
    {
      "cell_type": "code",
      "execution_count": null,
      "metadata": {
        "executionInfo": {
          "elapsed": 58,
          "status": "ok",
          "timestamp": 1657241040860,
          "user": {
            "displayName": "",
            "userId": ""
          },
          "user_tz": 420
        },
        "id": "SAwGOQFDhWZN",
        "outputId": "a4595600-0733-4f2b-ac09-6066054ee7d7"
      },
      "outputs": [
        {
          "data": {
            "text/plain": [
              "True"
            ]
          },
          "execution_count": 15,
          "metadata": {},
          "output_type": "execute_result"
        }
      ],
      "source": [
        "f4 = pg.from_json_str(serialized_form)\n",
        "f2 == f4"
      ]
    },
    {
      "cell_type": "markdown",
      "metadata": {
        "id": "NFexsJrzzYxN"
      },
      "source": [
        "### Late binding (Dynamic binding)\n",
        "Therefore, late binding can be implemented as passing the serialized string across processes, and load it for execution."
      ]
    },
    {
      "cell_type": "code",
      "execution_count": null,
      "metadata": {
        "executionInfo": {
          "elapsed": 60,
          "status": "ok",
          "timestamp": 1657241041046,
          "user": {
            "displayName": "",
            "userId": ""
          },
          "user_tz": 420
        },
        "id": "7YYrEEad7fj_",
        "outputId": "8d1fe3bc-dfe5-4940-e1ea-6c43066811d0"
      },
      "outputs": [
        {
          "name": "stdout",
          "output_type": "stream",
          "text": [
            "5\n"
          ]
        }
      ],
      "source": [
        "def main(func_str):\n",
        "  print(pg.from_json_str(func_str)())\n",
        "\n",
        "main(serialized_form)"
      ]
    },
    {
      "cell_type": "markdown",
      "metadata": {
        "id": "Cy8GOg7uMPWX"
      },
      "source": [
        "\u003ca name='symbolic-programmability'\u003e\u003c/a\u003e\n",
        "## Symbolic Programmability\n",
        "\n",
        "Functors are symbolic classes, which inherit all the symbolic programmabilities from `pg.Object`. This section highlight a few most frequent use cases."
      ]
    },
    {
      "cell_type": "markdown",
      "metadata": {
        "id": "FA_g7478M0Wn"
      },
      "source": [
        "### Deep manipulation\n",
        "\n",
        "`rebind` allows a nested child to be directly manipulable from the root functor object."
      ]
    },
    {
      "cell_type": "code",
      "execution_count": null,
      "metadata": {
        "executionInfo": {
          "elapsed": 54,
          "status": "ok",
          "timestamp": 1657241041218,
          "user": {
            "displayName": "",
            "userId": ""
          },
          "user_tz": 420
        },
        "id": "HfndEMegMLmy",
        "outputId": "ff534c42-ec31-4d19-b7fd-ff2fcd60a937"
      },
      "outputs": [
        {
          "name": "stdout",
          "output_type": "stream",
          "text": [
            "foo(\n",
            "  fn = bar(\n",
            "    x = MISSING_VALUE(Any()),\n",
            "    y = 1\n",
            "  ),\n",
            "  v = 1\n",
            ")\n",
            "3\n",
            "foo(\n",
            "  fn = bar(\n",
            "    x = MISSING_VALUE(Any()),\n",
            "    y = 2\n",
            "  ),\n",
            "  v = 1\n",
            ")\n"
          ]
        },
        {
          "data": {
            "text/plain": [
              "4"
            ]
          },
          "execution_count": 17,
          "metadata": {},
          "output_type": "execute_result"
        }
      ],
      "source": [
        "f = foo(bar(y=1), 1)\n",
        "print(f)\n",
        "print(f())\n",
        "f.rebind({\n",
        "    'fn.y': 2\n",
        "})\n",
        "print(f)\n",
        "f()"
      ]
    },
    {
      "cell_type": "markdown",
      "metadata": {
        "id": "eGLICn0WNsAv"
      },
      "source": [
        "Or by rules:"
      ]
    },
    {
      "cell_type": "code",
      "execution_count": null,
      "metadata": {
        "executionInfo": {
          "elapsed": 1,
          "status": "ok",
          "timestamp": 1657241041416,
          "user": {
            "displayName": "",
            "userId": ""
          },
          "user_tz": 420
        },
        "id": "X0TwQQ7HNuFz",
        "outputId": "ad4d65dc-f15e-48fe-c0e7-21959f9c7ccc"
      },
      "outputs": [
        {
          "name": "stdout",
          "output_type": "stream",
          "text": [
            "foo(\n",
            "  fn = bar(\n",
            "    x = MISSING_VALUE(Any()),\n",
            "    y = 3\n",
            "  ),\n",
            "  v = 2\n",
            ")\n"
          ]
        },
        {
          "data": {
            "text/plain": [
              "7"
            ]
          },
          "execution_count": 18,
          "metadata": {},
          "output_type": "execute_result"
        }
      ],
      "source": [
        "f.rebind(lambda k, v: v + 1 if isinstance(v, int) else v)\n",
        "print(f)\n",
        "f()"
      ]
    },
    {
      "cell_type": "markdown",
      "metadata": {
        "id": "EdcjpdrpN8ky"
      },
      "source": [
        "### Symbolic query"
      ]
    },
    {
      "cell_type": "code",
      "execution_count": null,
      "metadata": {
        "executionInfo": {
          "elapsed": 54,
          "status": "ok",
          "timestamp": 1657241041597,
          "user": {
            "displayName": "",
            "userId": ""
          },
          "user_tz": 420
        },
        "id": "OQwGzHFyOAEL",
        "outputId": "86ed6949-d626-469a-83ae-03d9c99acda7"
      },
      "outputs": [
        {
          "data": {
            "text/plain": [
              "{'fn.y': 3}"
            ]
          },
          "execution_count": 19,
          "metadata": {},
          "output_type": "execute_result"
        }
      ],
      "source": [
        "pg.query(f, '.*y')"
      ]
    },
    {
      "cell_type": "code",
      "execution_count": null,
      "metadata": {
        "executionInfo": {
          "elapsed": 53,
          "status": "ok",
          "timestamp": 1657241041800,
          "user": {
            "displayName": "",
            "userId": ""
          },
          "user_tz": 420
        },
        "id": "IbFzl42sOFOP",
        "outputId": "3e224bae-c6dc-4ce1-c7e1-fd034ce1d308"
      },
      "outputs": [
        {
          "data": {
            "text/plain": [
              "{'fn.y': 3, 'v': 2}"
            ]
          },
          "execution_count": 20,
          "metadata": {},
          "output_type": "execute_result"
        }
      ],
      "source": [
        "pg.query(f, where=lambda v: isinstance(v, int))"
      ]
    },
    {
      "cell_type": "markdown",
      "metadata": {
        "id": "xGmbriv2OKZe"
      },
      "source": [
        "### Symbolic generation"
      ]
    },
    {
      "cell_type": "code",
      "execution_count": null,
      "metadata": {
        "executionInfo": {
          "elapsed": 86,
          "status": "ok",
          "timestamp": 1657241042021,
          "user": {
            "displayName": "",
            "userId": ""
          },
          "user_tz": 420
        },
        "id": "yJ3A_u-JORyj",
        "outputId": "6700e485-807a-423c-a497-62a09952da6e"
      },
      "outputs": [
        {
          "name": "stdout",
          "output_type": "stream",
          "text": [
            "[foo(fn=bar(x=MISSING_VALUE, y=5), v=5), foo(fn=bar(x=MISSING_VALUE, y=17), v=8), foo(fn=bar(x=MISSING_VALUE, y=18), v=17), foo(fn=bar(x=MISSING_VALUE, y=10), v=18), foo(fn=bar(x=MISSING_VALUE, y=5), v=15)]\n"
          ]
        }
      ],
      "source": [
        "foo_space = foo(fn=bar(y=pg.oneof(range(20))), v=pg.oneof(range(20)))\n",
        "# Random generate 5 examples from the `foo_space`.\n",
        "print(list(pg.iter(foo_space, 5, algorithm=pg.geno.Random())))"
      ]
    },
    {
      "cell_type": "markdown",
      "metadata": {
        "id": "PGDA3BBUOmz6"
      },
      "source": [
        "### Symbolic optimization"
      ]
    },
    {
      "cell_type": "code",
      "execution_count": null,
      "metadata": {
        "colab": {
          "height": 265
        },
        "executionInfo": {
          "elapsed": 979,
          "status": "ok",
          "timestamp": 1657241043127,
          "user": {
            "displayName": "",
            "userId": ""
          },
          "user_tz": 420
        },
        "id": "4WK4YXKJPHVj",
        "outputId": "5951e28f-6d51-41b8-c245-e5f66a98f95b"
      },
      "outputs": [
        {
          "data": {
            "image/png": "[encoded data removed]",
            "text/plain": [
              "\u003cFigure size 600x400 with 1 Axes\u003e"
            ]
          },
          "metadata": {},
          "output_type": "display_data"
        }
      ],
      "source": [
        "history = []\n",
        "\n",
        "# Optimize the argument values from the `foo_space`, to achieve larger return\n",
        "# value.\n",
        "for example, feedback in pg.sample(\n",
        "    foo_space,\n",
        "    pg.evolution.regularized_evolution(population_size=20, tournament_size=10),\n",
        "    num_examples=50):\n",
        "  assert isinstance(example, foo)\n",
        "  reward = example()\n",
        "  feedback(reward)\n",
        "  history.append(reward)\n",
        "\n",
        "import matplotlib.pyplot as plt\n",
        "plt.plot(list(range(len(history))), [a - 0.9 for a in history])\n",
        "plt.show()"
      ]
    },
    {
      "cell_type": "markdown",
      "metadata": {
        "id": "jK9m80QlyLrK"
      },
      "source": [
        "\u003ca name='functools-partial'\u003e\u003c/a\u003e\n",
        "## Appendix: Various Binding Scenarios with `functools.partial`\n",
        "\n",
        "To allow users to compare functor with existing binding tools, we add this appendix to illustrate how certain binding scenarios are solved using `functools.partial`."
      ]
    },
    {
      "cell_type": "markdown",
      "metadata": {
        "id": "o8PMXqmtzXSc"
      },
      "source": [
        "### Partial binding\n"
      ]
    },
    {
      "cell_type": "code",
      "execution_count": null,
      "metadata": {
        "executionInfo": {
          "elapsed": 53,
          "status": "ok",
          "timestamp": 1657241043396,
          "user": {
            "displayName": "",
            "userId": ""
          },
          "user_tz": 420
        },
        "id": "ISmb0HNNOfPx",
        "outputId": "b22ea563-296c-46d1-cb65-8dfb1d79c5f6"
      },
      "outputs": [
        {
          "data": {
            "text/plain": [
              "4"
            ]
          },
          "execution_count": 23,
          "metadata": {},
          "output_type": "execute_result"
        }
      ],
      "source": [
        "def foo(fn, v):\n",
        "  return v + fn(v)\n",
        "\n",
        "def bar(x, y):\n",
        "  return x + y\n",
        "\n",
        "import functools\n",
        "\n",
        "# To fit the signature of `foo.fn`,\n",
        "# we create a partial binding of bar.\n",
        "foo(functools.partial(bar, y=2), 1)"
      ]
    },
    {
      "cell_type": "markdown",
      "metadata": {
        "id": "CKQzxf6_Parv"
      },
      "source": [
        "### Incremental binding"
      ]
    },
    {
      "cell_type": "code",
      "execution_count": null,
      "metadata": {
        "executionInfo": {
          "elapsed": 56,
          "status": "ok",
          "timestamp": 1657241043566,
          "user": {
            "displayName": "",
            "userId": ""
          },
          "user_tz": 420
        },
        "id": "t610HoDqPvTt",
        "outputId": "7186abef-48cc-4cd1-ee2a-f1f1665dcc0b"
      },
      "outputs": [
        {
          "name": "stdout",
          "output_type": "stream",
          "text": [
            "functools.partial(\u003cfunction bar at 0x7fece1932f70\u003e, x=1, y=2)\n",
            "3\n"
          ]
        }
      ],
      "source": [
        "# Incremental binding can be achieved with nested `functools.partial`.\n",
        "b = functools.partial(bar, x=1)\n",
        "b2 = functools.partial(b, y=2)\n",
        "print(b2)\n",
        "print(b2())"
      ]
    },
    {
      "cell_type": "markdown",
      "metadata": {
        "id": "NMQOEeGLQXAb"
      },
      "source": [
        "### Mutable binding"
      ]
    },
    {
      "cell_type": "code",
      "execution_count": null,
      "metadata": {
        "executionInfo": {
          "elapsed": 55,
          "status": "ok",
          "timestamp": 1657241043767,
          "user": {
            "displayName": "",
            "userId": ""
          },
          "user_tz": 420
        },
        "id": "eWx-2xAtQnll",
        "outputId": "a6ac473e-aa1a-432e-89a5-6af11eafccec"
      },
      "outputs": [
        {
          "name": "stdout",
          "output_type": "stream",
          "text": [
            "functools.partial(\u003cfunction bar at 0x7fece1932f70\u003e, x=2, y=2)\n"
          ]
        },
        {
          "data": {
            "text/plain": [
              "4"
            ]
          },
          "execution_count": 25,
          "metadata": {},
          "output_type": "execute_result"
        }
      ],
      "source": [
        "# Argument override can be achieved by creating another partial binding\n",
        "# with overriden arguments.\n",
        "b3 = functools.partial(b2, x=2)\n",
        "print(b3)\n",
        "\n",
        "# Or specifying a different value at call time.\n",
        "b2(x=2)"
      ]
    }
  ],
  "metadata": {
    "colab": {
      "collapsed_sections": [],
      "last_runtime": {
        "build_target": "//learning/deepmind/dm_python:dm_notebook3",
        "kind": "private"
      },
      "name": "Symbolic Functions (Functors)",
      "provenance": [
        {
          "file_id": "1UviAoPnrmoZ3g8m5qyzXCDTgjCGPzigd",
          "timestamp": 1642034270143
        }
      ],
      "toc_visible": true
    },
    "kernelspec": {
      "display_name": "Python 3",
      "name": "python3"
    },
    "language_info": {
      "name": "python"
    }
  },
  "nbformat": 4,
  "nbformat_minor": 0
}
